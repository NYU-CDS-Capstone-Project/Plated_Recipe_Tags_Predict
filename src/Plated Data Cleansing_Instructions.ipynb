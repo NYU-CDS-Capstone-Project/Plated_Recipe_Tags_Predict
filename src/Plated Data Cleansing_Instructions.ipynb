{
 "cells": [
  {
   "cell_type": "code",
   "execution_count": 1,
   "metadata": {},
   "outputs": [],
   "source": [
    "import pandas as pd\n",
    "import numpy as np\n",
    "import re"
   ]
  },
  {
   "cell_type": "code",
   "execution_count": 111,
   "metadata": {},
   "outputs": [],
   "source": [
    "dt = pd.read_csv('nyu_recipe_data.csv')"
   ]
  },
  {
   "cell_type": "code",
   "execution_count": 128,
   "metadata": {},
   "outputs": [],
   "source": [
    "def clean_html_dirt(raw_html):\n",
    "    try:\n",
    "        cleanr1 = re.compile('<.*?>')\n",
    "        repeatr1 = re.sub(cleanr1, '', raw_html)\n",
    "        cleanr2 = re.compile(r'&nbsp;')\n",
    "        repeatr2 = re.sub(cleanr2, '', repeatr1)\n",
    "        cleanr3 = re.compile('&#x27;')\n",
    "        repeatr3 = re.sub(cleanr3, \"'\", repeatr2)\n",
    "        repeatr4 = repeatr3.replace('<b>', '').replace('</b>', '')\n",
    "        return repeatr4\n",
    "    except:\n",
    "        print('NAN: ', raw_html)\n",
    "        return raw_html\n",
    "def deep_clean(init_clean):\n",
    "    try:\n",
    "        return clean_html_dirt(init_clean)[0:5]+clean_html_dirt(init_clean).split(clean_html_dirt(init_clean)[0:5])[1]\n",
    "    except:\n",
    "        print('---------')\n",
    "        return init_clean"
   ]
  },
  {
   "cell_type": "code",
   "execution_count": 124,
   "metadata": {},
   "outputs": [],
   "source": [
    "col = ['step_one', 'step_two', 'step_three', 'step_four', 'step_five','step_six']"
   ]
  },
  {
   "cell_type": "markdown",
   "metadata": {},
   "source": [
    "#### Clean and missing values in each instruction steps:"
   ]
  },
  {
   "cell_type": "code",
   "execution_count": 129,
   "metadata": {},
   "outputs": [
    {
     "name": "stdout",
     "output_type": "stream",
     "text": [
      "NAN:  nan\n",
      "---------\n",
      "NAN:  nan\n",
      "---------\n",
      "NAN:  nan\n",
      "---------\n",
      "NAN:  nan\n",
      "---------\n",
      "< step_one > contains nan in row:\n",
      " [1214 1996 2315 2441]\n",
      "NAN:  nan\n",
      "---------\n",
      "NAN:  nan\n",
      "---------\n",
      "NAN:  nan\n",
      "---------\n",
      "NAN:  nan\n",
      "---------\n",
      "NAN:  nan\n",
      "---------\n",
      "< step_two > contains nan in row:\n",
      " [1365 1378 1927 2285 2559]\n",
      "NAN:  nan\n",
      "---------\n",
      "NAN:  nan\n",
      "---------\n",
      "NAN:  nan\n",
      "---------\n",
      "NAN:  nan\n",
      "---------\n",
      "NAN:  nan\n",
      "---------\n",
      "NAN:  nan\n",
      "---------\n",
      "< step_three > contains nan in row:\n",
      " [1378 1482 1972 2015 2387 2559]\n",
      "NAN:  nan\n",
      "---------\n",
      "NAN:  nan\n",
      "---------\n",
      "NAN:  nan\n",
      "---------\n",
      "NAN:  nan\n",
      "---------\n",
      "NAN:  nan\n",
      "---------\n",
      "NAN:  nan\n",
      "---------\n",
      "NAN:  nan\n",
      "---------\n",
      "NAN:  nan\n",
      "---------\n",
      "NAN:  nan\n",
      "---------\n",
      "< step_four > contains nan in row:\n",
      " [1333 1378 1477 1482 1745 2015 2234 2309 2559]\n",
      "NAN:  nan\n",
      "---------\n",
      "NAN:  nan\n",
      "---------\n",
      "NAN:  nan\n",
      "---------\n",
      "NAN:  nan\n",
      "---------\n",
      "NAN:  nan\n",
      "---------\n",
      "NAN:  nan\n",
      "---------\n",
      "NAN:  nan\n",
      "---------\n",
      "NAN:  nan\n",
      "---------\n",
      "NAN:  nan\n",
      "---------\n",
      "NAN:  nan\n",
      "---------\n",
      "NAN:  nan\n",
      "---------\n",
      "< step_five > contains nan in row:\n",
      " [ 765 1378 1477 1481 1482 1733 1899 2276 2375 2545 2559]\n",
      "NAN:  nan\n",
      "---------\n",
      "NAN:  nan\n",
      "---------\n",
      "NAN:  nan\n",
      "---------\n",
      "NAN:  nan\n",
      "---------\n",
      "NAN:  nan\n",
      "---------\n",
      "NAN:  nan\n",
      "---------\n",
      "NAN:  nan\n",
      "---------\n",
      "NAN:  nan\n",
      "---------\n",
      "NAN:  nan\n",
      "---------\n",
      "NAN:  nan\n",
      "---------\n",
      "NAN:  nan\n",
      "---------\n",
      "NAN:  nan\n",
      "---------\n",
      "NAN:  nan\n",
      "---------\n",
      "NAN:  nan\n",
      "---------\n",
      "NAN:  nan\n",
      "---------\n",
      "NAN:  nan\n",
      "---------\n",
      "NAN:  nan\n",
      "---------\n",
      "NAN:  nan\n",
      "---------\n",
      "NAN:  nan\n",
      "---------\n",
      "NAN:  nan\n",
      "---------\n",
      "NAN:  nan\n",
      "---------\n",
      "NAN:  nan\n",
      "---------\n",
      "NAN:  nan\n",
      "---------\n",
      "NAN:  nan\n",
      "---------\n",
      "NAN:  nan\n",
      "---------\n",
      "NAN:  nan\n",
      "---------\n",
      "NAN:  nan\n",
      "---------\n",
      "NAN:  nan\n",
      "---------\n",
      "NAN:  nan\n",
      "---------\n",
      "NAN:  nan\n",
      "---------\n",
      "NAN:  nan\n",
      "---------\n",
      "NAN:  nan\n",
      "---------\n",
      "NAN:  nan\n",
      "---------\n",
      "NAN:  nan\n",
      "---------\n",
      "NAN:  nan\n",
      "---------\n",
      "NAN:  nan\n",
      "---------\n",
      "NAN:  nan\n",
      "---------\n",
      "NAN:  nan\n",
      "---------\n",
      "< step_six > contains nan in row:\n",
      " [ 893 1234 1244 1378 1468 1477 1482 1572 1584 1714 1764 1836 1859 1870\n",
      " 1910 1967 1998 2001 2036 2123 2125 2139 2141 2142 2143 2162 2273 2346\n",
      " 2380 2485 2512 2514 2520 2526 2536 2545 2554 2559]\n"
     ]
    }
   ],
   "source": [
    "for col_name in col:\n",
    "    dt[col_name] = dt.apply(lambda row: deep_clean(row[col_name]), axis=1)\n",
    "    x = dt[dt[col_name].isnull()==True].index.values   \n",
    "    print('<', col_name, '> contains nan in row:\\n', x)"
   ]
  },
  {
   "cell_type": "markdown",
   "metadata": {},
   "source": [
    "#### Cleaned sample"
   ]
  },
  {
   "cell_type": "code",
   "execution_count": 116,
   "metadata": {},
   "outputs": [
    {
     "data": {
      "text/plain": [
       "'Season tilapia all over with .25 teaspoon kosher salt and pepper as desired. Add to pot with curry, nestling in. Increase heat to medium high and cook until tilapia is opaque, about 5 minutes. Remove pot from heat. Using a spoon, break tilapia into smaller pieces. Taste and add more salt and pepper as needed.'"
      ]
     },
     "execution_count": 116,
     "metadata": {},
     "output_type": "execute_result"
    }
   ],
   "source": [
    "import random \n",
    "dt.step_five[random.randint(1,dt.shape[0]+1)]"
   ]
  },
  {
   "cell_type": "code",
   "execution_count": 130,
   "metadata": {},
   "outputs": [],
   "source": [
    "for i in dt['step_four'].values:\n",
    "    try:\n",
    "        if \"<b>\" in i:\n",
    "            print(i)\n",
    "    except:\n",
    "        pass"
   ]
  },
  {
   "cell_type": "markdown",
   "metadata": {},
   "source": [
    "#### Recipes contain missing values:"
   ]
  },
  {
   "cell_type": "code",
   "execution_count": 7,
   "metadata": {},
   "outputs": [
    {
     "name": "stdout",
     "output_type": "stream",
     "text": [
      "****************\n",
      "Recipes contain one or more missing steps:\n",
      "{1572, 2346, 1836, 1967, 1584, 1714, 2485, 1468, 1859, 1477, 1482, 2123, 2380, 2125, 1870, 1998, 2512, 2001, 1234, 2514, 2520, 2139, 1244, 2141, 2142, 2143, 2526, 2273, 1378, 1764, 2536, 2545, 2162, 2036, 1910, 2554, 893, 2559}\n",
      "****************\n"
     ]
    }
   ],
   "source": [
    "for col_name in col:\n",
    "    dt[col_name] = dt.apply(lambda row: deep_clean(row[col_name]), axis=1)\n",
    "    x = dt[dt[col_name].isnull()==True].index.values.tolist()\n",
    "    missings = []\n",
    "    missings.extend(x)\n",
    "    #empty.append(x)  \n",
    "print('****************')\n",
    "print('Recipes contain one or more missing steps:')\n",
    "print(set(missings))\n",
    "print('****************')\n",
    "# print('Recipes ONLY contain step-one:', list(set(empty[1]) & set(empty[2]) &set(empty[3]) & set(empty[4])&set(empty[5])))  \n",
    "# print('Recipes ONLY contain step-one & step-two:', list(set(empty[2]) &set(empty[3]) & set(empty[4])&set(empty[5]))[0])  \n",
    "# print('Recipes ONLY contain step-one & two & three:', list(set(empty[3]) & set(empty[4])&set(empty[5]))[1])  "
   ]
  },
  {
   "cell_type": "markdown",
   "metadata": {},
   "source": [
    "#### Calculate the average/max/min length of each instruction step: "
   ]
  },
  {
   "cell_type": "code",
   "execution_count": 14,
   "metadata": {},
   "outputs": [
    {
     "name": "stdout",
     "output_type": "stream",
     "text": [
      "step_one :\n",
      "max length:  94\n",
      "min length:  4\n",
      "average length:  52.36942924159499\n",
      "====================\n",
      "step_two :\n",
      "max length:  86\n",
      "min length:  13\n",
      "average length:  51.197888150175984\n",
      "====================\n",
      "step_three :\n",
      "max length:  87\n",
      "min length:  9\n",
      "average length:  52.41158059467919\n",
      "====================\n",
      "step_four :\n",
      "max length:  90\n",
      "min length:  5\n",
      "average length:  51.66039952996475\n",
      "====================\n",
      "step_five :\n",
      "max length:  100\n",
      "min length:  8\n",
      "average length:  48.95060760486084\n",
      "====================\n",
      "step_six :\n",
      "max length:  91\n",
      "min length:  5\n",
      "average length:  31.89659270998415\n",
      "====================\n"
     ]
    }
   ],
   "source": [
    "for col_name in col:\n",
    "    length = []\n",
    "    n = 0\n",
    "    for i in range(0,dt.shape[0]):\n",
    "        try:\n",
    "            length.append(len(dt[col_name][i].split()))\n",
    "            n += 1\n",
    "        except:\n",
    "            pass\n",
    "    print(col_name,':')\n",
    "    print('max length: ', max(length))\n",
    "    print('min length: ', min(length))\n",
    "    print('average length: ', np.sum(length)/n)\n",
    "    print('====================')"
   ]
  },
  {
   "cell_type": "code",
   "execution_count": null,
   "metadata": {},
   "outputs": [],
   "source": []
  }
 ],
 "metadata": {
  "kernelspec": {
   "display_name": "Python 3",
   "language": "python",
   "name": "python3"
  },
  "language_info": {
   "codemirror_mode": {
    "name": "ipython",
    "version": 3
   },
   "file_extension": ".py",
   "mimetype": "text/x-python",
   "name": "python",
   "nbconvert_exporter": "python",
   "pygments_lexer": "ipython3",
   "version": "3.6.6"
  }
 },
 "nbformat": 4,
 "nbformat_minor": 2
}
