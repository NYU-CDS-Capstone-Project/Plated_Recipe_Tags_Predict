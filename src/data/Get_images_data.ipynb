{
 "cells": [
  {
   "cell_type": "code",
   "execution_count": 2,
   "metadata": {},
   "outputs": [],
   "source": [
    "import pandas as pd \n",
    "import wget"
   ]
  },
  {
   "cell_type": "code",
   "execution_count": 3,
   "metadata": {},
   "outputs": [],
   "source": [
    "recipe_data = pd.read_csv('../data/nyu_recipe_data.csv', index_col=0)"
   ]
  },
  {
   "cell_type": "code",
   "execution_count": 4,
   "metadata": {},
   "outputs": [
    {
     "data": {
      "text/plain": [
       "2562"
      ]
     },
     "execution_count": 4,
     "metadata": {},
     "output_type": "execute_result"
    }
   ],
   "source": [
    "len(recipe_data)"
   ]
  },
  {
   "cell_type": "code",
   "execution_count": 8,
   "metadata": {},
   "outputs": [],
   "source": [
    "recipe_Id = recipe_data.index"
   ]
  },
  {
   "cell_type": "code",
   "execution_count": 16,
   "metadata": {},
   "outputs": [
    {
     "data": {
      "text/plain": [
       "'1a14372b9e'"
      ]
     },
     "execution_count": 16,
     "metadata": {},
     "output_type": "execute_result"
    }
   ],
   "source": [
    "index"
   ]
  },
  {
   "cell_type": "code",
   "execution_count": 17,
   "metadata": {},
   "outputs": [
    {
     "name": "stdout",
     "output_type": "stream",
     "text": [
      "HTTP error:  1a14372b9e\n",
      "HTTP error:  9.40E+10\n",
      "HTTP error:  9.97E+14\n",
      "HTTP error:  7.12E+155\n",
      "HTTP error:  2.49E+09\n",
      "HTTP error:  9.82E+15\n",
      "HTTP error:  4.31E+29\n",
      "HTTP error:  357057987\n",
      "HTTP error:  716392590\n",
      "HTTP error:  7.92E+15\n",
      "HTTP error:  1.83E+24\n",
      "HTTP error:  1.07E+60\n",
      "HTTP error:  188599912\n"
     ]
    }
   ],
   "source": [
    "images_id_dict = {}\n",
    "for index in recipe_Id.values:\n",
    "    try:\n",
    "        url = 'https://s3.amazonaws.com/plated-nyu-collab-images/nyu_images_main/{}_main.jpg'.format(index)\n",
    "        filename = wget.download(url, out='../data/images')\n",
    "    except:\n",
    "        print('HTTP error: ', index)\n",
    "        filename = None\n",
    "    images_id_dict[index] = filename"
   ]
  },
  {
   "cell_type": "code",
   "execution_count": 18,
   "metadata": {},
   "outputs": [
    {
     "data": {
      "text/plain": [
       "array(['a41b3718c9', '2cf0cfc9c1', 'aa948d577f', ..., '78f8cf1a53',\n",
       "       '454c37b544', '5d9504c5d9'], dtype=object)"
      ]
     },
     "execution_count": 18,
     "metadata": {},
     "output_type": "execute_result"
    }
   ],
   "source": [
    "np.wherrecipe_Id.values"
   ]
  },
  {
   "cell_type": "code",
   "execution_count": 13,
   "metadata": {},
   "outputs": [],
   "source": [
    "filename = wget.download('https://s3.amazonaws.com/plated-nyu-collab-images/nyu_images_main/9638977651_main.jpg')"
   ]
  },
  {
   "cell_type": "code",
   "execution_count": 14,
   "metadata": {},
   "outputs": [
    {
     "data": {
      "text/plain": [
       "'9638977651_main.jpg'"
      ]
     },
     "execution_count": 14,
     "metadata": {},
     "output_type": "execute_result"
    }
   ],
   "source": [
    "filename"
   ]
  },
  {
   "cell_type": "code",
   "execution_count": null,
   "metadata": {},
   "outputs": [],
   "source": []
  }
 ],
 "metadata": {
  "kernelspec": {
   "display_name": "Python 3",
   "language": "python",
   "name": "python3"
  },
  "language_info": {
   "codemirror_mode": {
    "name": "ipython",
    "version": 3
   },
   "file_extension": ".py",
   "mimetype": "text/x-python",
   "name": "python",
   "nbconvert_exporter": "python",
   "pygments_lexer": "ipython3",
   "version": "3.6.3"
  }
 },
 "nbformat": 4,
 "nbformat_minor": 2
}
